{
  "nbformat": 4,
  "nbformat_minor": 0,
  "metadata": {
    "colab": {
      "name": "NLPHW03.ipynb",
      "provenance": [],
      "collapsed_sections": [],
      "authorship_tag": "ABX9TyP463Jef0Hv2hP+IU/9srYf",
      "include_colab_link": true
    },
    "kernelspec": {
      "name": "python3",
      "display_name": "Python 3"
    },
    "language_info": {
      "name": "python"
    }
  },
  "cells": [
    {
      "cell_type": "markdown",
      "metadata": {
        "id": "view-in-github",
        "colab_type": "text"
      },
      "source": [
        "<a href=\"https://colab.research.google.com/github/james330/NLPHW03/blob/main/NLPHW03.ipynb\" target=\"_parent\"><img src=\"https://colab.research.google.com/assets/colab-badge.svg\" alt=\"Open In Colab\"/></a>"
      ]
    },
    {
      "cell_type": "code",
      "metadata": {
        "id": "hq1EDe2QDSst"
      },
      "source": [
        "import jieba\n",
        "import urllib.request\n",
        "import matplotlib.pyplot as plt\n",
        "import math\n",
        "import csv"
      ],
      "execution_count": 1,
      "outputs": []
    },
    {
      "cell_type": "code",
      "metadata": {
        "id": "DITiO7-yEEwf"
      },
      "source": [
        "def is_chinese(uchar):\n",
        "    if uchar >= u'\\u4e00' and uchar <= u'\\u9fa5':\n",
        "        return True\n",
        "    else:\n",
        "        return False\n",
        "\n",
        "def format_str(content):\n",
        "    content_str = ''\n",
        "    for i in content:\n",
        "        if is_chinese(i):\n",
        "            content_str = content_str + ｉ\n",
        "    return content_str"
      ],
      "execution_count": 2,
      "outputs": []
    }
  ]
}