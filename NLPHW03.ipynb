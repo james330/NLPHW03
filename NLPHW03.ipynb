{
  "nbformat": 4,
  "nbformat_minor": 0,
  "metadata": {
    "colab": {
      "name": "NLPHW03.ipynb",
      "provenance": [],
      "collapsed_sections": [],
      "authorship_tag": "ABX9TyNbtjEJPybiY8V+i20bOyYf",
      "include_colab_link": true
    },
    "kernelspec": {
      "name": "python3",
      "display_name": "Python 3"
    },
    "language_info": {
      "name": "python"
    }
  },
  "cells": [
    {
      "cell_type": "markdown",
      "metadata": {
        "id": "view-in-github",
        "colab_type": "text"
      },
      "source": [
        "<a href=\"https://colab.research.google.com/github/james330/NLPHW03/blob/main/NLPHW03.ipynb\" target=\"_parent\"><img src=\"https://colab.research.google.com/assets/colab-badge.svg\" alt=\"Open In Colab\"/></a>"
      ]
    },
    {
      "cell_type": "code",
      "metadata": {
        "id": "hq1EDe2QDSst"
      },
      "source": [
        "import jieba\n",
        "import urllib.request\n",
        "import matplotlib.pyplot as plt\n",
        "import math\n",
        "import csv"
      ],
      "execution_count": 1,
      "outputs": []
    },
    {
      "cell_type": "code",
      "metadata": {
        "id": "DITiO7-yEEwf"
      },
      "source": [
        "def is_chinese(uchar):\n",
        "    if uchar >= u'\\u4e00' and uchar <= u'\\u9fa5':\n",
        "        return True\n",
        "    else:\n",
        "        return False\n",
        "\n",
        "def format_str(content):\n",
        "    content_str = ''\n",
        "    for i in content:\n",
        "        if is_chinese(i):\n",
        "            content_str = content_str + ｉ\n",
        "    return content_str"
      ],
      "execution_count": 2,
      "outputs": []
    },
    {
      "cell_type": "code",
      "metadata": {
        "colab": {
          "base_uri": "https://localhost:8080/"
        },
        "id": "pGPcj09hIKVT",
        "outputId": "78cbb68c-8d67-44e5-8033-01ee661d2ebb"
      },
      "source": [
        "res = \"https://raw.githubusercontent.com/bresut/NLP-git/master/NLP_HW02_Result/movies.csv\"\n",
        "urllib.request.urlretrieve(res, './data/movie.csv')"
      ],
      "execution_count": 11,
      "outputs": [
        {
          "output_type": "execute_result",
          "data": {
            "text/plain": [
              "('./data/movie.csv', <http.client.HTTPMessage at 0x7f031dca0a50>)"
            ]
          },
          "metadata": {
            "tags": []
          },
          "execution_count": 11
        }
      ]
    },
    {
      "cell_type": "code",
      "metadata": {
        "id": "F4FH3BkTG1J_"
      },
      "source": [
        "\n",
        "f = open(\"./data/movie.csv\",'r',encoding=\"utf-8\")\n",
        "m = 0 #行數\n",
        "txt = ''\n",
        "num_of_words_in_lines = [] #每一行的字詞數\n",
        "save_all_word = []\n",
        "fre_of_line = [] #每一行出現的字詞與對應的出現次數\n",
        "word_name = {}\n",
        "myCsvDic = csv.DictReader(f)\n",
        "for line in myCsvDic:\n",
        "    items = []\n",
        "    convert = format_str(line['劇情介紹'])\n",
        "    words  = jieba.cut(convert, cut_all=False)\n",
        "    line_fre = {}\n",
        "    line_word_num = 0\n",
        "    for word in words:\n",
        "        line_fre[word] = line_fre.get(word,0) + 1\n",
        "        word_name[word] = word_name.get(word,0) + 1\n",
        "        line_word_num = line_word_num + 1\n",
        "        #if len(save_all_word)==0:\n",
        "        #    save_all_word.append(word)\n",
        "        #else:\n",
        "        #    for i in save_all_word:\n",
        "        #        if i==word:\n",
        "        #            break\n",
        "        #        else:\n",
        "        #            save_all_word.append(word)\n",
        "    items = list(line_fre.items())  \n",
        "    items.sort(key=lambda x:x[1], reverse=True)\n",
        "    fre_of_line += (items, )\n",
        "    num_of_words_in_lines += (line_word_num, )\n",
        "    m = m+1\n",
        "for i in range(0,10):\n",
        "    print(fre_of_line[i])\n",
        "\n",
        "print(m)\n",
        "f.close"
      ],
      "execution_count": null,
      "outputs": []
    },
    {
      "cell_type": "code",
      "metadata": {
        "id": "flUnALEZJiOt"
      },
      "source": [
        "for key in word_name :\n",
        "    print(key)"
      ],
      "execution_count": null,
      "outputs": []
    },
    {
      "cell_type": "code",
      "metadata": {
        "id": "GZu70lC0J4hB"
      },
      "source": [
        ""
      ],
      "execution_count": null,
      "outputs": []
    }
  ]
}