{
  "nbformat": 4,
  "nbformat_minor": 0,
  "metadata": {
    "colab": {
      "name": "NLPHW03.ipynb",
      "provenance": [],
      "collapsed_sections": [],
      "authorship_tag": "ABX9TyPjt7VGb5DlByC7m+W+Oo+U",
      "include_colab_link": true
    },
    "kernelspec": {
      "name": "python3",
      "display_name": "Python 3"
    },
    "language_info": {
      "name": "python"
    }
  },
  "cells": [
    {
      "cell_type": "markdown",
      "metadata": {
        "id": "view-in-github",
        "colab_type": "text"
      },
      "source": [
        "<a href=\"https://colab.research.google.com/github/james330/NLPHW03/blob/main/NLPHW03.ipynb\" target=\"_parent\"><img src=\"https://colab.research.google.com/assets/colab-badge.svg\" alt=\"Open In Colab\"/></a>"
      ]
    },
    {
      "cell_type": "code",
      "metadata": {
        "id": "hq1EDe2QDSst"
      },
      "source": [
        "import jieba\n",
        "import urllib.request\n",
        "import matplotlib.pyplot as plt\n",
        "import math\n",
        "import csv"
      ],
      "execution_count": 12,
      "outputs": []
    },
    {
      "cell_type": "code",
      "metadata": {
        "colab": {
          "base_uri": "https://localhost:8080/"
        },
        "id": "pGPcj09hIKVT",
        "outputId": "6c81dd9b-ebfa-4f35-b164-008621d4beb9"
      },
      "source": [
        "res = \"https://raw.githubusercontent.com/james330/NLPHW02/main/movie.csv\"\n",
        "urllib.request.urlretrieve(res, './data/movie.csv')"
      ],
      "execution_count": 13,
      "outputs": [
        {
          "output_type": "execute_result",
          "data": {
            "text/plain": [
              "('./data/movie.csv', <http.client.HTTPMessage at 0x7fe21cd2fd10>)"
            ]
          },
          "metadata": {
            "tags": []
          },
          "execution_count": 13
        }
      ]
    },
    {
      "cell_type": "code",
      "metadata": {
        "colab": {
          "base_uri": "https://localhost:8080/",
          "height": 233
        },
        "id": "F4FH3BkTG1J_",
        "outputId": "aed6080a-2659-435e-844a-edfb148b682a"
      },
      "source": [
        "f = open(\"./data/movie.csv\",'r',encoding=\"utf-8\")\n",
        "m = 0\n",
        "txt = ''\n",
        "num_lines = []\n",
        "save_words = []\n",
        "fre_of_line = []\n",
        "word_name = {}\n",
        "myCsvDic = csv.DictReader(f)\n",
        "\n",
        "for line in myCsvDic:\n",
        "  items = []\n",
        "  convert = format_str(line['3'])\n",
        "  words = jieba.cut(convert ,cut_all = False)\n",
        "  line_fre = {}\n",
        "  line_word_num = 0\n",
        "  for w in words:\n",
        "    line_fre[w] = line_fre.get(w ,0) + 1\n",
        "    word_name[w] = word_name.get(w ,0) + 1\n",
        "    line_word_num += 1\n",
        "    items = list(line_fre.items())\n",
        "    items.sort(key = lambda x:x[1] ,reverse=True)\n",
        "    fre_of_line += (items ,)\n",
        "    num_lines += (line_word_num ,)\n",
        "    m += 1\n",
        "  \n",
        "for i in range(0 ,10):\n",
        "  print(fre_of_line[i])\n",
        "print(m)\n",
        "f.close"
      ],
      "execution_count": 14,
      "outputs": [
        {
          "output_type": "error",
          "ename": "NameError",
          "evalue": "ignored",
          "traceback": [
            "\u001b[0;31m---------------------------------------------------------------------------\u001b[0m",
            "\u001b[0;31mNameError\u001b[0m                                 Traceback (most recent call last)",
            "\u001b[0;32m<ipython-input-14-d03593d9a8f1>\u001b[0m in \u001b[0;36m<module>\u001b[0;34m()\u001b[0m\n\u001b[1;32m     10\u001b[0m \u001b[0;32mfor\u001b[0m \u001b[0mline\u001b[0m \u001b[0;32min\u001b[0m \u001b[0mmyCsvDic\u001b[0m\u001b[0;34m:\u001b[0m\u001b[0;34m\u001b[0m\u001b[0;34m\u001b[0m\u001b[0m\n\u001b[1;32m     11\u001b[0m   \u001b[0mitems\u001b[0m \u001b[0;34m=\u001b[0m \u001b[0;34m[\u001b[0m\u001b[0;34m]\u001b[0m\u001b[0;34m\u001b[0m\u001b[0;34m\u001b[0m\u001b[0m\n\u001b[0;32m---> 12\u001b[0;31m   \u001b[0mconvert\u001b[0m \u001b[0;34m=\u001b[0m \u001b[0mformat_str\u001b[0m\u001b[0;34m(\u001b[0m\u001b[0mline\u001b[0m\u001b[0;34m[\u001b[0m\u001b[0;34m'3'\u001b[0m\u001b[0;34m]\u001b[0m\u001b[0;34m)\u001b[0m\u001b[0;34m\u001b[0m\u001b[0;34m\u001b[0m\u001b[0m\n\u001b[0m\u001b[1;32m     13\u001b[0m   \u001b[0mwords\u001b[0m \u001b[0;34m=\u001b[0m \u001b[0mjieba\u001b[0m\u001b[0;34m.\u001b[0m\u001b[0mcut\u001b[0m\u001b[0;34m(\u001b[0m\u001b[0mconvert\u001b[0m \u001b[0;34m,\u001b[0m\u001b[0mcut_all\u001b[0m \u001b[0;34m=\u001b[0m \u001b[0;32mFalse\u001b[0m\u001b[0;34m)\u001b[0m\u001b[0;34m\u001b[0m\u001b[0;34m\u001b[0m\u001b[0m\n\u001b[1;32m     14\u001b[0m   \u001b[0mline_fre\u001b[0m \u001b[0;34m=\u001b[0m \u001b[0;34m{\u001b[0m\u001b[0;34m}\u001b[0m\u001b[0;34m\u001b[0m\u001b[0;34m\u001b[0m\u001b[0m\n",
            "\u001b[0;31mNameError\u001b[0m: name 'format_str' is not defined"
          ]
        }
      ]
    }
  ]
}