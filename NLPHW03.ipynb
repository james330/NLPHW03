{
  "nbformat": 4,
  "nbformat_minor": 0,
  "metadata": {
    "colab": {
      "name": "NLPHW03.ipynb",
      "provenance": [],
      "collapsed_sections": [],
      "authorship_tag": "ABX9TyNdjZGS1fn2ouCZ1QnMk9QC",
      "include_colab_link": true
    },
    "kernelspec": {
      "name": "python3",
      "display_name": "Python 3"
    },
    "language_info": {
      "name": "python"
    }
  },
  "cells": [
    {
      "cell_type": "markdown",
      "metadata": {
        "id": "view-in-github",
        "colab_type": "text"
      },
      "source": [
        "<a href=\"https://colab.research.google.com/github/james330/NLPHW03/blob/main/NLPHW03.ipynb\" target=\"_parent\"><img src=\"https://colab.research.google.com/assets/colab-badge.svg\" alt=\"Open In Colab\"/></a>"
      ]
    },
    {
      "cell_type": "code",
      "metadata": {
        "id": "hq1EDe2QDSst"
      },
      "source": [
        "import jieba\n",
        "import urllib.request\n",
        "import matplotlib.pyplot as plt\n",
        "import math\n",
        "import csv"
      ],
      "execution_count": 2,
      "outputs": []
    },
    {
      "cell_type": "code",
      "metadata": {
        "colab": {
          "base_uri": "https://localhost:8080/"
        },
        "id": "pGPcj09hIKVT",
        "outputId": "044e2c84-525c-4be7-b6f2-6efc9a3a0c6e"
      },
      "source": [
        "res = \"https://raw.githubusercontent.com/bresut/NLP-git/master/NLP_HW02_Result/movies.csv\"\n",
        "urllib.request.urlretrieve(res, './data/movie.csv')"
      ],
      "execution_count": 4,
      "outputs": [
        {
          "output_type": "execute_result",
          "data": {
            "text/plain": [
              "('./data/movie.csv', <http.client.HTTPMessage at 0x7f4da3c96a50>)"
            ]
          },
          "metadata": {
            "tags": []
          },
          "execution_count": 4
        }
      ]
    },
    {
      "cell_type": "code",
      "metadata": {
        "id": "yRDYZPHNSPv_"
      },
      "source": [
        "def is_chinese(uchar):\n",
        "  if uchar >= u'\\u4e00' and uchar <= u'\\u9fa5':\n",
        "      return True\n",
        "  else:\n",
        "      return False\n",
        "\n",
        "def format_str(content):\n",
        "  content_str = ''\n",
        "  for i in content:\n",
        "    if is_chinese(i):\n",
        "        content_str = content_str + ｉ\n",
        "  return content_str"
      ],
      "execution_count": 3,
      "outputs": []
    },
    {
      "cell_type": "code",
      "metadata": {
        "colab": {
          "base_uri": "https://localhost:8080/"
        },
        "id": "F4FH3BkTG1J_",
        "outputId": "e99bca10-a222-4aeb-b0b2-a45114f3a060"
      },
      "source": [
        "f = open(\"./data/movie.csv\",'r',encoding=\"utf-8\")\n",
        "m = 0\n",
        "txt = ''\n",
        "num_lines = []\n",
        "save_words = []\n",
        "fre_of_line = []\n",
        "word_name = {}\n",
        "myCsvDic = csv.DictReader(f)\n",
        "\n",
        "for line in myCsvDic:\n",
        "  items = []\n",
        "  convert = format_str(line['劇情介紹'])\n",
        "  words = jieba.cut(convert ,cut_all = False)\n",
        "  line_fre = {}\n",
        "  line_word_num = 0\n",
        "  for w in words:\n",
        "    line_fre[w] = line_fre.get(w ,0) + 1\n",
        "    word_name[w] = word_name.get(w ,0) + 1\n",
        "    line_word_num += 1\n",
        "    items = list(line_fre.items())\n",
        "    items.sort(key = lambda x:x[1] ,reverse=True)\n",
        "    fre_of_line += (items ,)\n",
        "    num_lines += (line_word_num ,)\n",
        "    m += 1\n",
        "  \n",
        "\n",
        "print(m)\n",
        "f.close"
      ],
      "execution_count": null,
      "outputs": [
        {
          "output_type": "stream",
          "text": [
            "Building prefix dict from the default dictionary ...\n",
            "Loading model from cache /tmp/jieba.cache\n",
            "Loading model cost 0.818 seconds.\n",
            "Prefix dict has been built successfully.\n"
          ],
          "name": "stderr"
        }
      ]
    },
    {
      "cell_type": "markdown",
      "metadata": {
        "id": "zJ0JvRyrVyX-"
      },
      "source": [
        "失敗了\n",
        "因不明原因 一直使 RAM 爆滿\n",
        "除了使用我之前爬的資料集，也跟同學借了資料及來使用\n",
        "這次只能先如此"
      ]
    }
  ]
}